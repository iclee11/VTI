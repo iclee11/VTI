{
 "cells": [
  {
   "cell_type": "code",
   "execution_count": 4,
   "metadata": {},
   "outputs": [
    {
     "name": "stdout",
     "output_type": "stream",
     "text": [
      "oob_score 0.9937808878817994\n"
     ]
    }
   ],
   "source": [
    "import pandas as pd\n",
    "import numpy as np\n",
    "from sklearn.ensemble import RandomForestRegressor\n",
    "\n",
    "# parameters ===============\n",
    "history_steps = 10\n",
    "target_as_feature = False\n",
    "feature_files = ['BWX', 'IEI','LQD','VEA', 'VEU', 'VGK','VPL','VT','VWO'] \n",
    "target_file = ['VTI']\n",
    "train_test_split = 0.7\n",
    "# program ==================\n",
    "\n",
    "##Read Files##\n",
    "\n",
    "for n,m in enumerate(target_file+feature_files):\n",
    "    df_temp=pd.read_csv(m+'.csv',sep=',',thousands = ',', header = 0, index_col = 0)\n",
    "    df_temp=df_temp.drop(['Change %', 'Vol.', 'Open','High','Low'], axis=1)\n",
    "    df_temp.index=pd.to_datetime(df_temp.index)\n",
    "    df_temp.columns=['Price_'+m]\n",
    "    if n==0:\n",
    "        df=df_temp\n",
    "    else:\n",
    "        df=df.join(df_temp)\n",
    "        \n",
    "##Check and Interpolate Missing Value##\n",
    "        \n",
    "missing=pd.isna(df).sum()\n",
    "df = df.interpolate(method='linear')\n",
    "\n",
    "##Build Training/Test Dataset##\n",
    "\n",
    "def timeseries_to_array(df, history_steps, target_as_feature):\n",
    "    for n in range(df.shape[0]-history_steps):  \n",
    "        if target_as_feature:\n",
    "            step_features = df.iloc[n:n+history_steps,:].values.flatten().reshape((1,-1))\n",
    "        else:\n",
    "            step_features = df.iloc[n:n+history_steps,1:].values.flatten().reshape((1,-1))\n",
    "        step_target = df.iloc[n+history_steps, 0]\n",
    "        if n == 0:\n",
    "            feature_array = step_features\n",
    "            target_array = [step_target]\n",
    "        else:\n",
    "            feature_array = np.concatenate((feature_array, step_features), axis = 0)\n",
    "            target_array.append(step_target)\n",
    "\n",
    "    return feature_array, np.array(target_array)\n",
    "    \n",
    "    \n",
    "x_train, y_train = timeseries_to_array(df.iloc[:int(len(df)*train_test_split),:], \n",
    "                               history_steps, target_as_feature)\n",
    "x_test, y_test = timeseries_to_array(df.iloc[int(len(df)*train_test_split):,:], \n",
    "                                 history_steps, target_as_feature)\n",
    "\n",
    "\n",
    "##Fit Model##\n",
    "model = RandomForestRegressor(n_estimators = 100, max_depth = 10, \n",
    "                              max_features = 0.3, oob_score = True, verbose = 0)\n",
    "model.fit(x_train, y_train)\n",
    "y_pred = model.predict(x_test)\n",
    "print('oob_score', model.oob_score_)\n",
    "FIP=model.feature_importances_\n",
    "final=pd.DataFrame(FIP)\n",
    "\n",
    "##Calculate Feature Importance##\n",
    "if target_as_feature:\n",
    "    n_index=len(feature_files+target_file)\n",
    "else:\n",
    "    n_index=len(feature_files)\n",
    "FIP_by_index=np.zeros((n_index,1))\n",
    "\n",
    "for n in range(n_index):\n",
    "    for m in range(history_steps):\n",
    "        FIP_by_index[n]=FIP_by_index[n]+final.iloc[m*n_index+n]\n",
    " \n"
   ]
  },
  {
   "cell_type": "code",
   "execution_count": 5,
   "metadata": {},
   "outputs": [
    {
     "data": {
      "text/plain": [
       "<matplotlib.axes._subplots.AxesSubplot at 0x295056500c8>"
      ]
     },
     "execution_count": 5,
     "metadata": {},
     "output_type": "execute_result"
    },
    {
     "data": {
      "image/png": "[encoded data removed]",
      "text/plain": [
       "<Figure size 432x288 with 1 Axes>"
      ]
     },
     "metadata": {
      "needs_background": "light"
     },
     "output_type": "display_data"
    },
    {
     "data": {
      "image/png": "[encoded data removed]",
      "text/plain": [
       "<Figure size 432x288 with 1 Axes>"
      ]
     },
     "metadata": {
      "needs_background": "light"
     },
     "output_type": "display_data"
    }
   ],
   "source": [
    "##Bar Plot##  \n",
    "if target_as_feature:\n",
    "    index = ['VTI','BWX', 'IEI','LQD','VEA','VEU', 'VGK','VPL','VT','VWO']\n",
    "else:\n",
    "    index = ['BWX', 'IEI','LQD','VEA','VEU', 'VGK','VPL','VT','VWO']\n",
    "result=pd.DataFrame(FIP_by_index, index= index,columns= ['Feature Importance'])    \n",
    "\n",
    "pic=result.sort_values(by=['Feature Importance'])\n",
    "pic.plot.bar(rot=0, title='1. Feature Importance (%s days)'% history_steps)\n",
    "\n",
    "pic2=pic.loc[['BWX', 'IEI','LQD','VEA','VEU', 'VGK','VWO'],:].sort_values(by=\n",
    "            ['Feature Importance'])\n",
    "pic2.plot.bar(rot=0, title='2.Feature Importance without VPL and VT (%s days)'% history_steps)\n",
    "\n"
   ]
  }
 ],
 "metadata": {
  "kernelspec": {
   "display_name": "Python 3",
   "language": "python",
   "name": "python3"
  },
  "language_info": {
   "codemirror_mode": {
    "name": "ipython",
    "version": 3
   },
   "file_extension": ".py",
   "mimetype": "text/x-python",
   "name": "python",
   "nbconvert_exporter": "python",
   "pygments_lexer": "ipython3",
   "version": "3.7.4"
  }
 },
 "nbformat": 4,
 "nbformat_minor": 2
}
